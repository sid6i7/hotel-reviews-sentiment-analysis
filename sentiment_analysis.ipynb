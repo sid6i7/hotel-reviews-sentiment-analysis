{
  "cells": [
    {
      "cell_type": "code",
      "execution_count": null,
      "metadata": {
        "id": "0RgbSgViUKX6"
      },
      "outputs": [],
      "source": [
        "import pandas as pd\n",
        "import re\n",
        "import nltk\n",
        "nltk.download('punkt')\n",
        "from nltk.tokenize import sent_tokenize, word_tokenize\n",
        "import nltk\n",
        "nltk.download('stopwords')\n",
        "from nltk.corpus import stopwords\n",
        "from nltk.stem import WordNetLemmatizer\n",
        "from nltk.corpus import wordnet\n",
        "nltk.download('wordnet')\n",
        "nltk.download('averaged_perceptron_tagger')\n",
        "from sklearn.feature_extraction.text import CountVectorizer"
      ]
    },
    {
      "cell_type": "code",
      "execution_count": null,
      "metadata": {
        "id": "r3jTil07UddJ"
      },
      "outputs": [],
      "source": [
        "data = pd.read_csv('Treebo.csv')"
      ]
    },
    {
      "cell_type": "code",
      "execution_count": null,
      "metadata": {
        "colab": {
          "base_uri": "https://localhost:8080/",
          "height": 206
        },
        "id": "9JOQdbdZUnAo",
        "outputId": "fa3e7bfb-2d6f-4bf0-d7d6-1292ddd15f44"
      },
      "outputs": [
        {
          "output_type": "execute_result",
          "data": {
            "text/plain": [
              "          review_title  stars                          date  \\\n",
              "0     A mediocre place    2.0   Date of stay: December 2021   \n",
              "1  Not well maintained    1.0   Date of stay: December 2021   \n",
              "2   Average experience    2.0  Date of stay: September 2021   \n",
              "3            Traveling    2.0      Date of stay: March 2021   \n",
              "4        Average hotel    3.0   Date of stay: February 2020   \n",
              "\n",
              "                                         full_review  \n",
              "0  Our stay in this place left much to be desired...  \n",
              "1  The rooms we were given were such that either ...  \n",
              "2  1) Receptionist at time of check-in was rude. ...  \n",
              "3  Breakfast  limited menu.  Poor service.  Stay ...  \n",
              "4  I stayed for one night with family. This is av...  "
            ],
            "text/html": [
              "\n",
              "  <div id=\"df-19ad5810-c21e-43ca-a47d-c3762f881b1b\">\n",
              "    <div class=\"colab-df-container\">\n",
              "      <div>\n",
              "<style scoped>\n",
              "    .dataframe tbody tr th:only-of-type {\n",
              "        vertical-align: middle;\n",
              "    }\n",
              "\n",
              "    .dataframe tbody tr th {\n",
              "        vertical-align: top;\n",
              "    }\n",
              "\n",
              "    .dataframe thead th {\n",
              "        text-align: right;\n",
              "    }\n",
              "</style>\n",
              "<table border=\"1\" class=\"dataframe\">\n",
              "  <thead>\n",
              "    <tr style=\"text-align: right;\">\n",
              "      <th></th>\n",
              "      <th>review_title</th>\n",
              "      <th>stars</th>\n",
              "      <th>date</th>\n",
              "      <th>full_review</th>\n",
              "    </tr>\n",
              "  </thead>\n",
              "  <tbody>\n",
              "    <tr>\n",
              "      <th>0</th>\n",
              "      <td>A mediocre place</td>\n",
              "      <td>2.0</td>\n",
              "      <td>Date of stay: December 2021</td>\n",
              "      <td>Our stay in this place left much to be desired...</td>\n",
              "    </tr>\n",
              "    <tr>\n",
              "      <th>1</th>\n",
              "      <td>Not well maintained</td>\n",
              "      <td>1.0</td>\n",
              "      <td>Date of stay: December 2021</td>\n",
              "      <td>The rooms we were given were such that either ...</td>\n",
              "    </tr>\n",
              "    <tr>\n",
              "      <th>2</th>\n",
              "      <td>Average experience</td>\n",
              "      <td>2.0</td>\n",
              "      <td>Date of stay: September 2021</td>\n",
              "      <td>1) Receptionist at time of check-in was rude. ...</td>\n",
              "    </tr>\n",
              "    <tr>\n",
              "      <th>3</th>\n",
              "      <td>Traveling</td>\n",
              "      <td>2.0</td>\n",
              "      <td>Date of stay: March 2021</td>\n",
              "      <td>Breakfast  limited menu.  Poor service.  Stay ...</td>\n",
              "    </tr>\n",
              "    <tr>\n",
              "      <th>4</th>\n",
              "      <td>Average hotel</td>\n",
              "      <td>3.0</td>\n",
              "      <td>Date of stay: February 2020</td>\n",
              "      <td>I stayed for one night with family. This is av...</td>\n",
              "    </tr>\n",
              "  </tbody>\n",
              "</table>\n",
              "</div>\n",
              "      <button class=\"colab-df-convert\" onclick=\"convertToInteractive('df-19ad5810-c21e-43ca-a47d-c3762f881b1b')\"\n",
              "              title=\"Convert this dataframe to an interactive table.\"\n",
              "              style=\"display:none;\">\n",
              "        \n",
              "  <svg xmlns=\"http://www.w3.org/2000/svg\" height=\"24px\"viewBox=\"0 0 24 24\"\n",
              "       width=\"24px\">\n",
              "    <path d=\"M0 0h24v24H0V0z\" fill=\"none\"/>\n",
              "    <path d=\"M18.56 5.44l.94 2.06.94-2.06 2.06-.94-2.06-.94-.94-2.06-.94 2.06-2.06.94zm-11 1L8.5 8.5l.94-2.06 2.06-.94-2.06-.94L8.5 2.5l-.94 2.06-2.06.94zm10 10l.94 2.06.94-2.06 2.06-.94-2.06-.94-.94-2.06-.94 2.06-2.06.94z\"/><path d=\"M17.41 7.96l-1.37-1.37c-.4-.4-.92-.59-1.43-.59-.52 0-1.04.2-1.43.59L10.3 9.45l-7.72 7.72c-.78.78-.78 2.05 0 2.83L4 21.41c.39.39.9.59 1.41.59.51 0 1.02-.2 1.41-.59l7.78-7.78 2.81-2.81c.8-.78.8-2.07 0-2.86zM5.41 20L4 18.59l7.72-7.72 1.47 1.35L5.41 20z\"/>\n",
              "  </svg>\n",
              "      </button>\n",
              "      \n",
              "  <style>\n",
              "    .colab-df-container {\n",
              "      display:flex;\n",
              "      flex-wrap:wrap;\n",
              "      gap: 12px;\n",
              "    }\n",
              "\n",
              "    .colab-df-convert {\n",
              "      background-color: #E8F0FE;\n",
              "      border: none;\n",
              "      border-radius: 50%;\n",
              "      cursor: pointer;\n",
              "      display: none;\n",
              "      fill: #1967D2;\n",
              "      height: 32px;\n",
              "      padding: 0 0 0 0;\n",
              "      width: 32px;\n",
              "    }\n",
              "\n",
              "    .colab-df-convert:hover {\n",
              "      background-color: #E2EBFA;\n",
              "      box-shadow: 0px 1px 2px rgba(60, 64, 67, 0.3), 0px 1px 3px 1px rgba(60, 64, 67, 0.15);\n",
              "      fill: #174EA6;\n",
              "    }\n",
              "\n",
              "    [theme=dark] .colab-df-convert {\n",
              "      background-color: #3B4455;\n",
              "      fill: #D2E3FC;\n",
              "    }\n",
              "\n",
              "    [theme=dark] .colab-df-convert:hover {\n",
              "      background-color: #434B5C;\n",
              "      box-shadow: 0px 1px 3px 1px rgba(0, 0, 0, 0.15);\n",
              "      filter: drop-shadow(0px 1px 2px rgba(0, 0, 0, 0.3));\n",
              "      fill: #FFFFFF;\n",
              "    }\n",
              "  </style>\n",
              "\n",
              "      <script>\n",
              "        const buttonEl =\n",
              "          document.querySelector('#df-19ad5810-c21e-43ca-a47d-c3762f881b1b button.colab-df-convert');\n",
              "        buttonEl.style.display =\n",
              "          google.colab.kernel.accessAllowed ? 'block' : 'none';\n",
              "\n",
              "        async function convertToInteractive(key) {\n",
              "          const element = document.querySelector('#df-19ad5810-c21e-43ca-a47d-c3762f881b1b');\n",
              "          const dataTable =\n",
              "            await google.colab.kernel.invokeFunction('convertToInteractive',\n",
              "                                                     [key], {});\n",
              "          if (!dataTable) return;\n",
              "\n",
              "          const docLinkHtml = 'Like what you see? Visit the ' +\n",
              "            '<a target=\"_blank\" href=https://colab.research.google.com/notebooks/data_table.ipynb>data table notebook</a>'\n",
              "            + ' to learn more about interactive tables.';\n",
              "          element.innerHTML = '';\n",
              "          dataTable['output_type'] = 'display_data';\n",
              "          await google.colab.output.renderOutput(dataTable, element);\n",
              "          const docLink = document.createElement('div');\n",
              "          docLink.innerHTML = docLinkHtml;\n",
              "          element.appendChild(docLink);\n",
              "        }\n",
              "      </script>\n",
              "    </div>\n",
              "  </div>\n",
              "  "
            ]
          },
          "metadata": {},
          "execution_count": 3
        }
      ],
      "source": [
        "data.head()"
      ]
    },
    {
      "cell_type": "code",
      "execution_count": null,
      "metadata": {
        "colab": {
          "base_uri": "https://localhost:8080/"
        },
        "id": "yvJbuEz86gyn",
        "outputId": "8a487483-c9f0-491b-98f5-17f2e1b7f217"
      },
      "outputs": [
        {
          "data": {
            "text/plain": [
              "5.0    25\n",
              "4.0    22\n",
              "3.0    13\n",
              "2.0     8\n",
              "1.0     6\n",
              "Name: stars, dtype: int64"
            ]
          },
          "execution_count": 99,
          "metadata": {},
          "output_type": "execute_result"
        }
      ],
      "source": [
        "data['stars'].value_counts()"
      ]
    },
    {
      "cell_type": "code",
      "execution_count": null,
      "metadata": {
        "id": "o1Ig75omAFAu"
      },
      "outputs": [],
      "source": [
        "data['stars_int'] = data['stars'].astype(int)"
      ]
    },
    {
      "cell_type": "code",
      "execution_count": null,
      "metadata": {
        "id": "BwDSO4HLayMn"
      },
      "outputs": [],
      "source": [
        "reviews = data['full_review']"
      ]
    },
    {
      "cell_type": "code",
      "execution_count": null,
      "metadata": {
        "id": "_uBhptZDa74B"
      },
      "outputs": [],
      "source": [
        "reviews = list(reviews)"
      ]
    },
    {
      "cell_type": "code",
      "execution_count": null,
      "metadata": {
        "colab": {
          "base_uri": "https://localhost:8080/"
        },
        "id": "B7jecxgTbt1c",
        "outputId": "40b8595a-d863-4985-8079-82f07cc77862"
      },
      "outputs": [
        {
          "data": {
            "text/plain": [
              "['Cleaning of my room has been done by Anjali..she has been really helpful for all cleaning stuff and really polite and ready to help for anything you asked for..even i had a word with her regarding city ..',\n",
              " 'Pleasantly surprised , with the quality of staff and the hotel . I experienced more than I had expected . Very professional drivers who received me on arrival and saw me off at departure. Mr Tanishq/ Mayur and the team ever smiling.at the receiption. Mr Shamsudeen and his team at the Kava who took care of my breakfast, but the best was  Ms Anjali , who took care of my laundry and cleaning my room . She was brilliant , I can say I got a brand new room every day for 8 days. Having stayed in all the luxurious hotels in Indore , I can very well say that , this was my best stay because of the service I was rendered and the smiling enthusiastic staff who made my stay memorable. I would highly recommend this hotel , which is centrally located for business or for pleasure. I am already',\n",
              " 'My stay in this hotel is great. All staff members are really polite and gave proper attention.  It was really pleasant to stay here. Rooms are great , all services are also great and it feels very comfortable with such nice arrangements']"
            ]
          },
          "execution_count": 75,
          "metadata": {},
          "output_type": "execute_result"
        }
      ],
      "source": [
        "reviews[:3]"
      ]
    },
    {
      "cell_type": "code",
      "execution_count": null,
      "metadata": {
        "id": "qyyBPsgyb1ur"
      },
      "outputs": [],
      "source": [
        "from nltk.tokenize import sent_tokenize, word_tokenize"
      ]
    },
    {
      "cell_type": "code",
      "execution_count": null,
      "metadata": {
        "colab": {
          "base_uri": "https://localhost:8080/"
        },
        "id": "Yf_6caaMcQre",
        "outputId": "4983b66f-8519-4505-a261-116ec153db28"
      },
      "outputs": [
        {
          "name": "stdout",
          "output_type": "stream",
          "text": [
            "[nltk_data] Downloading package punkt to /root/nltk_data...\n",
            "[nltk_data]   Package punkt is already up-to-date!\n"
          ]
        },
        {
          "data": {
            "text/plain": [
              "True"
            ]
          },
          "execution_count": 78,
          "metadata": {},
          "output_type": "execute_result"
        }
      ],
      "source": [
        "import nltk\n",
        "nltk.download('punkt')"
      ]
    },
    {
      "cell_type": "code",
      "execution_count": null,
      "metadata": {
        "id": "dw0RiFDhFP97"
      },
      "outputs": [],
      "source": [
        "from nltk.stem import WordNetLemmatizer\n",
        "from nltk.corpus import wordnet\n",
        "lemmatizer = WordNetLemmatizer()"
      ]
    },
    {
      "cell_type": "code",
      "execution_count": null,
      "metadata": {
        "colab": {
          "base_uri": "https://localhost:8080/"
        },
        "id": "gNyn8waCGYN8",
        "outputId": "495a6e96-ea99-4664-f99f-f1f1e787b7b4"
      },
      "outputs": [
        {
          "name": "stdout",
          "output_type": "stream",
          "text": [
            "[nltk_data] Downloading package wordnet to /root/nltk_data...\n",
            "[nltk_data]   Package wordnet is already up-to-date!\n"
          ]
        },
        {
          "data": {
            "text/plain": [
              "True"
            ]
          },
          "execution_count": 90,
          "metadata": {},
          "output_type": "execute_result"
        }
      ],
      "source": [
        "nltk.download('wordnet')"
      ]
    },
    {
      "cell_type": "code",
      "execution_count": null,
      "metadata": {
        "colab": {
          "base_uri": "https://localhost:8080/"
        },
        "id": "9Iv2L75AII5X",
        "outputId": "d8612c0b-afa3-46d5-f612-8b9fb060d533"
      },
      "outputs": [
        {
          "name": "stdout",
          "output_type": "stream",
          "text": [
            "[nltk_data] Downloading package averaged_perceptron_tagger to\n",
            "[nltk_data]     /root/nltk_data...\n",
            "[nltk_data]   Package averaged_perceptron_tagger is already up-to-\n",
            "[nltk_data]       date!\n"
          ]
        },
        {
          "data": {
            "text/plain": [
              "True"
            ]
          },
          "execution_count": 91,
          "metadata": {},
          "output_type": "execute_result"
        }
      ],
      "source": [
        "nltk.download('averaged_perceptron_tagger')"
      ]
    },
    {
      "cell_type": "code",
      "execution_count": null,
      "metadata": {
        "id": "yNq5plJWH0Hm"
      },
      "outputs": [],
      "source": [
        "def get_wordnet_pos(word):\n",
        "    \"\"\"Map POS tag to first character lemmatize() accepts\"\"\"\n",
        "    tag = nltk.pos_tag([word])[0][1][0].upper()\n",
        "    tag_dict = {\"J\": wordnet.ADJ,\n",
        "                \"N\": wordnet.NOUN,\n",
        "                \"V\": wordnet.VERB,\n",
        "                \"R\": wordnet.ADV}\n",
        "\n",
        "    return tag_dict.get(tag, wordnet.NOUN)"
      ]
    },
    {
      "cell_type": "code",
      "execution_count": null,
      "metadata": {
        "id": "TRSvYu9lGJMZ"
      },
      "outputs": [],
      "source": [
        "clean_data_6 = []\n",
        "for words in clean_data_5:\n",
        "  clean = []\n",
        "  for word in words:\n",
        "    clean.append(lemmatizer.lemmatize(word, get_wordnet_pos(word)))\n",
        "  clean_data_6.append(clean)"
      ]
    },
    {
      "cell_type": "code",
      "execution_count": null,
      "metadata": {
        "id": "SodKBZH2Q2yW"
      },
      "outputs": [],
      "source": [
        "from sklearn.feature_extraction.text import CountVectorizer"
      ]
    },
    {
      "cell_type": "code",
      "execution_count": null,
      "metadata": {
        "id": "HBuViQ4z6deN"
      },
      "outputs": [],
      "source": [
        "cv = CountVectorizer(ngram_range=(1,2))\n",
        "def vectorize_data(clean_data):\n",
        "  clean = []\n",
        "  for data in clean_data:\n",
        "    vect_data = cv.fit_transform(data).toarray()\n",
        "    clean.append(vect_data)\n",
        "  return clean"
      ]
    },
    {
      "cell_type": "code",
      "execution_count": null,
      "metadata": {
        "colab": {
          "base_uri": "https://localhost:8080/"
        },
        "id": "3hWPeF-kb1by",
        "outputId": "96eaa068-322c-4b50-9772-0f49b2087ee4"
      },
      "outputs": [
        {
          "data": {
            "text/plain": [
              "array([0, 0, 0, ..., 0, 0, 0])"
            ]
          },
          "execution_count": 225,
          "metadata": {},
          "output_type": "execute_result"
        }
      ],
      "source": [
        "cv.transform(x[0]).toarray().reshape((1,-1)).squeeze()"
      ]
    },
    {
      "cell_type": "code",
      "execution_count": null,
      "metadata": {
        "colab": {
          "base_uri": "https://localhost:8080/"
        },
        "id": "4krYPjOnT6H6",
        "outputId": "4bda3e6e-e295-4b5f-8e82-6b37bb5bdbf9"
      },
      "outputs": [
        {
          "name": "stdout",
          "output_type": "stream",
          "text": [
            "[array([[1]]), array([[1, 1, 1]])]\n"
          ]
        }
      ],
      "source": [
        "cv = CountVectorizer(ngram_range=(1,2))\n",
        "print(vectorize_data([['siddhant'], ['jain s s ss ']]))"
      ]
    },
    {
      "cell_type": "code",
      "execution_count": null,
      "metadata": {
        "id": "NVAY35DBA1dX"
      },
      "outputs": [],
      "source": [
        "def clean_text(data):\n",
        "\n",
        "  # Converting to lower-case\n",
        "  clean_data_1 = []\n",
        "  for review in data:\n",
        "    clean_data_1.append(review.lower())\n",
        "\n",
        "  # Converting paragraphs to sentences\n",
        "  clean_data_2 = []\n",
        "  for review in clean_data_1:\n",
        "    clean_data_2.append(sent_tokenize(review))\n",
        "\n",
        "  # Converting sentences to individual words\n",
        "  clean_data_3 = [word_tokenize(i) for i in clean_data_1]\n",
        "\n",
        "  # Removing un-needed unicode characters\n",
        "  clean_data_4 = []\n",
        "  for words in clean_data_3:\n",
        "    clean = []\n",
        "    for word in words:\n",
        "      w = re.sub(r'[^\\w\\s]', \"\", word)\n",
        "      if w != \"\":\n",
        "        clean.append(w)\n",
        "    clean_data_4.append(clean)\n",
        "\n",
        "  # Removing stopwords\n",
        "  clean_data_5 = []\n",
        "  for words in clean_data_4:\n",
        "    clean = []\n",
        "    for word in words:\n",
        "      if not word in stopwords.words('english'):\n",
        "        clean.append(word)\n",
        "    clean_data_5.append(clean)\n",
        "\n",
        "  # Lemmatization\n",
        "  clean_data_6 = []\n",
        "  for words in clean_data_5:\n",
        "    clean = []\n",
        "    for word in words:\n",
        "      clean.append(lemmatizer.lemmatize(word, get_wordnet_pos(word)))\n",
        "    string = \" \".join(clean)\n",
        "    clean_data_6.append(string)\n",
        "  \n",
        "  return clean_data_6"
      ]
    },
    {
      "cell_type": "code",
      "execution_count": null,
      "metadata": {
        "id": "_ZfAhTjoREQu"
      },
      "outputs": [],
      "source": [
        "x = data['full_review']\n",
        "y = data['stars_int']"
      ]
    },
    {
      "cell_type": "code",
      "execution_count": null,
      "metadata": {
        "colab": {
          "base_uri": "https://localhost:8080/"
        },
        "id": "ofpAXBBGR2u2",
        "outputId": "00f01fe0-6c45-42c6-bded-88ee79d5d5c4"
      },
      "outputs": [
        {
          "data": {
            "text/plain": [
              "(74, 5)"
            ]
          },
          "execution_count": 120,
          "metadata": {},
          "output_type": "execute_result"
        }
      ],
      "source": [
        "data.shape"
      ]
    },
    {
      "cell_type": "code",
      "execution_count": null,
      "metadata": {
        "id": "aRfcq0GcRlUB"
      },
      "outputs": [],
      "source": [
        "x = clean_text(x)"
      ]
    },
    {
      "cell_type": "code",
      "execution_count": null,
      "metadata": {
        "colab": {
          "base_uri": "https://localhost:8080/"
        },
        "id": "bNJX6z3oj0bh",
        "outputId": "47186de5-756d-47ac-cee5-e5f40ff71867"
      },
      "outputs": [
        {
          "data": {
            "text/plain": [
              "['stay place left much desire due factor 1 staff rigid refuse provide breakfast 800 2 room unkept tidy 3 house keep staff carelessly left unclean bathroom mat bed 4 house keep staff leisurely left packet tabacoo consume room 5 hotel staff remind provide basic item like towel tea bag sugar packet etc contact treebo hotel area representative indore seek solution problem say representative person courtesy listen predicament try resolve grievance',\n",
              " 'room give either furniture broken dirty lot argument get slightly well room kettle dirty bucket dirty room dint hv telecom overall bad experience',\n",
              " '1 receptionist time checkin rude show room incomplete facility ask cancel stay 2 light corridor 2 day 3 telephone line room dead every time go reception 4 post argument get decent room overall experience average',\n",
              " 'breakfast limited menu poor service stay comfortable covid guideline follow hotel room cleaning good familiar hotel bad smell smoke ventilation entire hotel',\n",
              " 'stayed one night family average hotel good compare treebo property stayed till plus point near airport 4 km appx negative point property old much clean bedlinen good bar inside little uncomfortable family overall average property less price',\n",
              " 'stayed treebo trend shivani indore 12th jan 14th jan 2020 conveniently locate hotel far either railway station airport shopping centre also close hotel room good staff courteous price reasonable comfort provide breakfast include price overall nice stay hesitate recommend hotel anyone look decent accomodation posh clean neat area improvement wifi range otherwise thums place',\n",
              " 'hotel nice breakfast also good overall service nice need improve exterior part building part hotel room nice near bus stand auto stand plus point',\n",
              " 'though hotel old fashion make u comfortable agree keep luggage luggage room beyond room book hour still well aspect like brightness common area improve aesthetic entrance',\n",
              " 'room quite spacious centrally air condition neat clean breakfast decent facade might look hopeless stay comfortable small problem power cut though backup supply need time start seem staff helpful however first night stay policeman appear door near midnight routine check say inquire basic detail regard come purpose visit say common indore',\n",
              " 'book 5 room every room hot water cleanliness issue improve room service hot water cleanliness issue staff sport hotel location good breakfast good cleaning issue',\n",
              " 'nice comfortable stay awesome food nice location family friendly nice ambiance stay family one night staff good behaving facility available mention internet',\n",
              " 'stayed hotel shivani 2 night 3 kid love hotel food excellent room clean nice location hotel perfect short walk sarafa bazaar enjoy indore delicacy staff courteous helpful next time travel indore hotel shivani',\n",
              " 'hotel maintenance good staff helpful food good good convenient location sight see shopping room however small ventilation feel stuffy ok short stay',\n",
              " 'end day work felt disconcert find book biyabani poshest locality indore entrance reception hotel add confidence relief find room bathroom linen clean everything work breakfast horrible though cold oily puris room smelt stale food staff resemble government canteen worker location come useful bus depot nearby fair amount fruit stall supplement meal',\n",
              " 'first time use treebo brand highly satitsified quality facility offer reasonable amount room neat anf clean quality tileteries food good',\n",
              " 'treebo becomes first choice error book treebo site amaze quick response top management reassure traveller top promoter hotel group respond quickly problem resolve immediately hotel chain responds customer worth stay look detail customer requestscomplaints',\n",
              " 'hotel good clean location also good staff polite help full mr mohit sharma help lot good people hotel need breakfast variate morning hotel ambiance eis also good',\n",
              " 'hotel good location central area walk area near hotel room luxurious breakfast good staff excellent stay problem hotel',\n",
              " 'hotel well locate 15 min drive airport railway station room bit small snug staff helpful however hotel main door lock 11pm repeat call reception lead someone answer door',\n",
              " 'teacoffee set clean properly previous guest left tv remote work hot water available towel upto mark hotel bar cum restaurant reasonably price however menu card available room location quite convenient term reach airport fast',\n",
              " 'good hotel stay family individual one best hotel stay indore mention anywhere one told breakfast time mention room overall experience good',\n",
              " 'good hotel stay enjoy stay easy locate good food drink family individual good hotel stay one best hotel stay indore overall good property',\n",
              " 'breakfast good everything else bad noisy smell pesticide room lot mosquito well noise much day cancel book move next day',\n",
              " 'aarrangent fine cleaning room well improove room size room size comparatively small breakfast quality good improovment breakfast quality must noof item increase brekfast',\n",
              " 'central convenient location breakfast nice room excellently spacious nicely design clean tioletbath worth staysarafa bajaar famous khaau galli walkable15 mnts',\n",
              " 'hotel good facility amaze service like wifi car rental sightsee quick room service regular housekeep quality restaurant understand staff overall basic requirement available',\n",
              " 'room specious clean food also good staff co operative humble location far railway station ok experience good must try',\n",
              " 'stayed day treebo shivani nice 3 storeyed hotel restaurant bar available disposal hotel ambience 45 hotel neatness 45 value money 455 thing felt lack hotel hot water available time',\n",
              " 'terrible hotel stay bed infest termite see hundred termite crawl bed room probably recently pest control spending night son congestion throat bad kind hotel stayed life hotel must apologize refund entire amount paid advance otherwise would never stayed',\n",
              " 'dental kit poor ventilation lot noise adament staff hopeless breakfast wifi provide receipt inspite advance payment worth spending money recommend family',\n",
              " 'found place good comfortable good price offer best thing hotel location airport barely 55 km away key area city close save good amount time money travel exterior hotel bit nondescript could improve',\n",
              " 'bed sheet clean wifi work breakfast serve 8 per hotel time also delay get breakfast around 815 morning suppose leave hotel 8 oclock breakfast get delayed nt understand pulao morning breakfast',\n",
              " 'pleased say overall experience treebo shivani indore goodstarting welcome reception cleanliness room toilet well inform support staff help organise sightsee well decent breakfast spread overall good experience would definetly recommend family friend',\n",
              " 'checked late flight delayed get room ok bed sheet little cleaner overall price ok like quiet suggest find hotel away main road much horn noise blackout normal construction hospitality wise great see treat much well hotel breakfast ok great 2 main item chai amaze though',\n",
              " 'power outage 45 minute without backup poor quality breakfast food stale newspaper service despite promise tv system old technology quite confuse poor standard',\n",
              " 'stay treebo hotel great experience room clean service wonderful hotel staff cordial always ready help next time stay definitely treebo hotel',\n",
              " 'stayed treebo shivani indore christmas week room amenity excellent price paid staff cooperative hotel locate heart city place intrest nearby would recommend hotel family',\n",
              " 'staff extremely polite know need guest food nice staff give tip sightsee help get public transport hotel near rajwada glass palace sarafa also go way help fund key sent courier good stay',\n",
              " 'simple low frill hotel good night rest especially travel work hotel easy get get close airport come late even left next morning work really well',\n",
              " 'hotel room good poor service check inform one towel provide three adult provide till check 24 hr hot water geyser solar system switch one bucket hot water provide request get late travel due',\n",
              " 'wooden carpet room make lot noise walk room hot water take bath cold water month december hotel like cheap lodge service quality pathetic hotel nt provide food bill exclusive gst accept payment cash ask card payment charge extra 18 percentage provide bill include gst would like say thai hotel cheap lodge',\n",
              " 'good location access entire thing great valuable money nice staff coordination well add breakfast food serve need improve excellent rate money location thank',\n",
              " 'first trip indore book treebo shivani excellent stay good food decent cooperative humble staff special thanx mr jitin incharge treebo shivani helpful hospitable stay almost week great would highly recommend treebo shivani stay indore',\n",
              " 'friend wedding get indore look budget traveler look hotel clean bed toilet pretty much want treebo shivani deliver front although one complaint bed linen clean something fix easily hope treebo make note apart pleasant stay shivani staff friendly complimentary breakfast right slightly questionable linen bit would give 55 nonetheless enjoy stay treebo shivani',\n",
              " 'room good neat clean tidy window miss view room sort pseudo window thats minus point room service mark daily supply complimentary water bottle provide food menu kept room breakfast buffet egg preparation serve',\n",
              " 'like respect nice hotel suit pocket nicely locate good cooperative staff stayed hotel ever come business trip indore prefer stay hotel',\n",
              " 'staff service good room amenity need improve split ac noise whole night important thing communication treebo hotel clear add variety breakfast',\n",
              " 'book hotel treebo app go picture treebo brand name stayed hotel another treebo property bhopal realise treebo flagship hotel business model probably take hotel well spruce bit market boost business app mention anywhere oak category room windowless offer minor discount fall prey personally feel claustrophobic room request receptionist offer room tiny window opening towards back hotel view electricity transformer transmission tower staff cooperative take hotel',\n",
              " 'bad hotel power backup entire stay terrible power ac water bad negative rating worth even single day stay felt would well stay govt guest house',\n",
              " 'hotel staff responsive provide food menu rate charge directly final bill food menu rate card give customer service improve option breakfast spicey food give u customer ask fresh tea without sugar give smile face nt stand head customer eat',\n",
              " 'courteous staff helpful nature large comfort room cleanliness convenient location next bus depot stay family memorable veg food good family stay recommend always',\n",
              " 'stay excellent amenity provide lose like 5 facility good value money definite recommend hotel visitor expect comfortable stay excellent value money lift back power difficult old person claim stair',\n",
              " 'room decor wonderful unfortunately noise next room service chute permeate room also hot water ask available room food comparatively costly advantage seem location centrally locate close market important point interest come feel bit effort hotel could load well',\n",
              " 'lack transparency food bill food menu available hotel room update thus result mismatch per guest calculation restaurant calculation even though menu state update food menu also house keep visit everyday cleanup change linen request mandate thanks',\n",
              " 'good people well behave staff buffet breakfast decent bar good restaurant remind need water every day wardrobe drawer lock ashtray television reception bad time',\n",
              " 'really nice experience treebo shivaniits centralize place could easily commute within indore nice food quality breakfast include really awesome lunch dinner attach restaurant food could provide assistance arrange good cab ujjain finally forger smile mishraji always greet u friend nice person',\n",
              " 'exhaust fan toilet room good breakfast average room service good location main road near airport cab service available time good experience house keep good',\n",
              " 'breakfast timing service poor staff inform wrong timing breakfast reach place breakfast staff even raise hand provide u food electricity problem happen suffer humidity morning time',\n",
              " 'hotel good nice ambiance good service connectivity place recommend family class hassle service little cleanliness certainly make best place stay thank',\n",
              " 'water bottle give unless ask cleaning do request outside appearance poor inside good reception idea make amends need change online book breakfast avg restaurant good',\n",
              " 'property tad crammed staff cooperative although untrained hotel employee uniform irrespective group otherwise give weird feel nothing much say best thing spic span room lobby washroom corridor dinner paltes n bowl cheap melamine stuff tht broken thts yuck yuck big put',\n",
              " 'great experiencewe connect bus indore want freshen spec day time hotel staff much helpful didnt expect service price want freshen explore city take budget hoteli forgot charger hotel left city mr mohit really hepful guy help lot sent charger courierit sure whenever indore prefer place stay',\n",
              " 'pleasant perfect stay much far city central shopping market room good clean expect even though budget price service nice polite provide different option local sight see etc',\n",
              " 'truly decent stay hotel shivanii accomodate 4 day n superb experience mrkapil shrimali quality assurance manager actually assures quality accord postlocation also feasible definitely recommend stay next time',\n",
              " 'quality facility location perhaps little tourist circuit work room perfect quality linen superior pillow bathing room spacious',\n",
              " 'hotel locate heart city close shopping area well manager mr mishra staff cordial overall good experience keep highly recommend family stay',\n",
              " 'food quality mark embrassed front guest invite lunch however room ok book room picture show one double bed one single bed whereas provide 2 single bed one mattress put floor whereas book 3 guest',\n",
              " 'good stay family staff cooperative accommodate great stay hotel hotel centrally locate near airport room service okay prompt room neat clean',\n",
              " 'location approx 3km railway station 15 min drive locate opposite gangwal bus stand come room room neat clean wifi also good downside breakfast menu limited restaurant nearby problem face complimentary water bottle provide 1 bottle 3 person',\n",
              " 'family good experience staff helpful indore good choice want stay old indore area various poster film character post wall humorous well improvement feel do choice breakfast menu',\n",
              " 'frustrate hotel santoor stayed hotel shivani hotel near bus stand airport also good arrengement inside room nice restaurantinside hotel make stay comfortable reach airport within 2025 min take sweet fadsar indore recommend everybody nice stay',\n",
              " 'westerner feel welcome start finish initially allocate twin room book 30 min wait move double room standard despite book deluxe show 3 room finally get deluxe room paid breakfast confirm 810am arrive 8 told 830 miss breakfast despite pay catch flight wifi patchy slow time work room noisy air conditioning set 28 room cold sleep clothes staff sullen rude unhelpful best plus location airport bus terminal room clean enough would recommend',\n",
              " 'reach indore late night family member happy way hotel owner staff behave u seek chance get unfair price treebo shivani offer great place stay also justified money invest get access wifi hot water clean linen nice service slightly slow kitchen pantry otherwise worth',\n",
              " 'first trip indore chose treebo use service city hotel mark manager cooperative polite comfortable memorable stay']"
            ]
          },
          "execution_count": 256,
          "metadata": {},
          "output_type": "execute_result"
        }
      ],
      "source": [
        "x"
      ]
    },
    {
      "cell_type": "code",
      "execution_count": null,
      "metadata": {
        "id": "mf1rPXKRmTvG"
      },
      "outputs": [],
      "source": [
        "cv = CountVectorizer(ngram_range=(1,2))"
      ]
    },
    {
      "cell_type": "code",
      "execution_count": null,
      "metadata": {
        "colab": {
          "base_uri": "https://localhost:8080/"
        },
        "id": "8kTbIJNGmcj1",
        "outputId": "cfd90bc8-6ca9-4b0c-bb52-63294f863109"
      },
      "outputs": [
        {
          "data": {
            "text/plain": [
              "array([[0, 0, 0, ..., 0, 0, 0],\n",
              "       [0, 0, 0, ..., 0, 0, 0],\n",
              "       [0, 0, 0, ..., 0, 0, 0],\n",
              "       ...,\n",
              "       [0, 0, 0, ..., 0, 0, 0],\n",
              "       [0, 0, 0, ..., 0, 0, 0],\n",
              "       [0, 0, 0, ..., 0, 0, 0]])"
            ]
          },
          "execution_count": 260,
          "metadata": {},
          "output_type": "execute_result"
        }
      ],
      "source": [
        "x"
      ]
    },
    {
      "cell_type": "code",
      "execution_count": null,
      "metadata": {
        "colab": {
          "base_uri": "https://localhost:8080/"
        },
        "id": "9WOpxR6uVpgm",
        "outputId": "be382879-b84f-497b-fed6-20951a78265b"
      },
      "outputs": [
        {
          "name": "stderr",
          "output_type": "stream",
          "text": [
            "/usr/local/lib/python3.7/dist-packages/sklearn/utils/deprecation.py:87: FutureWarning: Function get_feature_names is deprecated; get_feature_names is deprecated in 1.0 and will be removed in 1.2. Please use get_feature_names_out instead.\n",
            "  warnings.warn(msg, category=FutureWarning)\n"
          ]
        },
        {
          "data": {
            "text/plain": [
              "['11pm',\n",
              " '11pm repeat',\n",
              " '12th',\n",
              " '12th jan',\n",
              " '14th',\n",
              " '14th jan',\n",
              " '15',\n",
              " '15 min',\n",
              " '18',\n",
              " '18 percentage',\n",
              " '2020',\n",
              " '2020 conveniently',\n",
              " '2025',\n",
              " '2025 min',\n",
              " '24',\n",
              " '24 hr',\n",
              " '28',\n",
              " '28 room',\n",
              " '30',\n",
              " '30 min',\n",
              " '3km',\n",
              " '3km railway',\n",
              " '45',\n",
              " '45 hotel',\n",
              " '45 minute',\n",
              " '45 value',\n",
              " '455',\n",
              " '455 thing',\n",
              " '55',\n",
              " '55 km',\n",
              " '55 nonetheless',\n",
              " '800',\n",
              " '800 room',\n",
              " '810am',\n",
              " '810am arrive',\n",
              " '815',\n",
              " '815 morning',\n",
              " '830',\n",
              " '830 miss',\n",
              " 'aarrangent',\n",
              " 'aarrangent fine',\n",
              " 'ac',\n",
              " 'ac noise',\n",
              " 'ac water',\n",
              " 'accept',\n",
              " 'accept payment',\n",
              " 'access',\n",
              " 'access entire',\n",
              " 'access wifi',\n",
              " 'accommodate',\n",
              " 'accommodate great',\n",
              " 'accomodate',\n",
              " 'accomodate day',\n",
              " 'accomodation',\n",
              " 'accomodation posh',\n",
              " 'accord',\n",
              " 'accord postlocation',\n",
              " 'actually',\n",
              " 'actually assures',\n",
              " 'adament',\n",
              " 'adament staff',\n",
              " 'add',\n",
              " 'add breakfast',\n",
              " 'add confidence',\n",
              " 'add variety',\n",
              " 'adult',\n",
              " 'adult provide',\n",
              " 'advance',\n",
              " 'advance otherwise',\n",
              " 'advance payment',\n",
              " 'advantage',\n",
              " 'advantage seem',\n",
              " 'aesthetic',\n",
              " 'aesthetic entrance',\n",
              " 'agree',\n",
              " 'agree keep',\n",
              " 'air',\n",
              " 'air condition',\n",
              " 'air conditioning',\n",
              " 'airport',\n",
              " 'airport also',\n",
              " 'airport barely',\n",
              " 'airport bus',\n",
              " 'airport cab',\n",
              " 'airport come',\n",
              " 'airport fast',\n",
              " 'airport km',\n",
              " 'airport railway',\n",
              " 'airport room',\n",
              " 'airport shopping',\n",
              " 'airport within',\n",
              " 'allocate',\n",
              " 'allocate twin',\n",
              " 'almost',\n",
              " 'almost week',\n",
              " 'also',\n",
              " 'also close',\n",
              " 'also delay',\n",
              " 'also feasible',\n",
              " 'also go',\n",
              " 'also good',\n",
              " 'also hot',\n",
              " 'also house',\n",
              " 'also justified',\n",
              " 'although',\n",
              " 'although one',\n",
              " 'although untrained',\n",
              " 'always',\n",
              " 'always greet',\n",
              " 'always ready',\n",
              " 'amaze',\n",
              " 'amaze quick',\n",
              " 'amaze service',\n",
              " 'amaze though',\n",
              " 'ambiance',\n",
              " 'ambiance eis',\n",
              " 'ambiance good',\n",
              " 'ambiance stay',\n",
              " 'ambience',\n",
              " 'ambience 45',\n",
              " 'amends',\n",
              " 'amends need',\n",
              " 'amenity',\n",
              " 'amenity excellent',\n",
              " 'amenity need',\n",
              " 'amenity provide',\n",
              " 'amount',\n",
              " 'amount fruit',\n",
              " 'amount paid',\n",
              " 'amount room',\n",
              " 'amount time',\n",
              " 'anf',\n",
              " 'anf clean',\n",
              " 'another',\n",
              " 'another treebo',\n",
              " 'answer',\n",
              " 'answer door',\n",
              " 'anyone',\n",
              " 'anyone look',\n",
              " 'anywhere',\n",
              " 'anywhere oak',\n",
              " 'anywhere one',\n",
              " 'apart',\n",
              " 'apart pleasant',\n",
              " 'apologize',\n",
              " 'apologize refund',\n",
              " 'app',\n",
              " 'app go',\n",
              " 'app mention',\n",
              " 'appear',\n",
              " 'appear door',\n",
              " 'appearance',\n",
              " 'appearance poor',\n",
              " 'approx',\n",
              " 'approx 3km',\n",
              " 'appx',\n",
              " 'appx negative',\n",
              " 'area',\n",
              " 'area city',\n",
              " 'area improve',\n",
              " 'area improvement',\n",
              " 'area near',\n",
              " 'area representative',\n",
              " 'area various',\n",
              " 'area walk',\n",
              " 'area well',\n",
              " 'argument',\n",
              " 'argument get',\n",
              " 'around',\n",
              " 'around 815',\n",
              " 'arrange',\n",
              " 'arrange good',\n",
              " 'arrengement',\n",
              " 'arrengement inside',\n",
              " 'arrive',\n",
              " 'arrive told',\n",
              " 'ashtray',\n",
              " 'ashtray television',\n",
              " 'ask',\n",
              " 'ask available',\n",
              " 'ask cancel',\n",
              " 'ask card',\n",
              " 'ask cleaning',\n",
              " 'ask fresh',\n",
              " 'aspect',\n",
              " 'aspect like',\n",
              " 'assistance',\n",
              " 'assistance arrange',\n",
              " 'assurance',\n",
              " 'assurance manager',\n",
              " 'assures',\n",
              " 'assures quality',\n",
              " 'attach',\n",
              " 'attach restaurant',\n",
              " 'auto',\n",
              " 'auto stand',\n",
              " 'available',\n",
              " 'available disposal',\n",
              " 'available hotel',\n",
              " 'available mention',\n",
              " 'available room',\n",
              " 'available time',\n",
              " 'available towel',\n",
              " 'average',\n",
              " 'average hotel',\n",
              " 'average property',\n",
              " 'average room',\n",
              " 'avg',\n",
              " 'avg restaurant',\n",
              " 'away',\n",
              " 'away key',\n",
              " 'away main',\n",
              " 'awesome',\n",
              " 'awesome food',\n",
              " 'awesome lunch',\n",
              " 'back',\n",
              " 'back hotel',\n",
              " 'back power',\n",
              " 'backup',\n",
              " 'backup entire',\n",
              " 'backup poor',\n",
              " 'backup supply',\n",
              " 'bad',\n",
              " 'bad experience',\n",
              " 'bad hotel',\n",
              " 'bad kind',\n",
              " 'bad negative',\n",
              " 'bad noisy',\n",
              " 'bad smell',\n",
              " 'bad time',\n",
              " 'bag',\n",
              " 'bag sugar',\n",
              " 'bajaar',\n",
              " 'bajaar famous',\n",
              " 'bar',\n",
              " 'bar available',\n",
              " 'bar cum',\n",
              " 'bar good',\n",
              " 'bar inside',\n",
              " 'barely',\n",
              " 'barely 55',\n",
              " 'basic',\n",
              " 'basic detail',\n",
              " 'basic item',\n",
              " 'basic requirement',\n",
              " 'bath',\n",
              " 'bath cold',\n",
              " 'bathing',\n",
              " 'bathing room',\n",
              " 'bathroom',\n",
              " 'bathroom linen',\n",
              " 'bathroom mat',\n",
              " 'bazaar',\n",
              " 'bazaar enjoy',\n",
              " 'becomes',\n",
              " 'becomes first',\n",
              " 'bed',\n",
              " 'bed house',\n",
              " 'bed infest',\n",
              " 'bed linen',\n",
              " 'bed one',\n",
              " 'bed room',\n",
              " 'bed sheet',\n",
              " 'bed toilet',\n",
              " 'bed whereas',\n",
              " 'bedlinen',\n",
              " 'bedlinen good',\n",
              " 'behave',\n",
              " 'behave seek',\n",
              " 'behave staff',\n",
              " 'behaving',\n",
              " 'behaving facility',\n",
              " 'best',\n",
              " 'best hotel',\n",
              " 'best place',\n",
              " 'best plus',\n",
              " 'best thing',\n",
              " 'beyond',\n",
              " 'beyond room',\n",
              " 'bhopal',\n",
              " 'bhopal realise',\n",
              " 'big',\n",
              " 'big put',\n",
              " 'bill',\n",
              " 'bill exclusive',\n",
              " 'bill food',\n",
              " 'bill include',\n",
              " 'bit',\n",
              " 'bit effort',\n",
              " 'bit market',\n",
              " 'bit nondescript',\n",
              " 'bit small',\n",
              " 'bit would',\n",
              " 'biyabani',\n",
              " 'biyabani poshest',\n",
              " 'blackout',\n",
              " 'blackout normal',\n",
              " 'book',\n",
              " 'book 30',\n",
              " 'book biyabani',\n",
              " 'book breakfast',\n",
              " 'book deluxe',\n",
              " 'book guest',\n",
              " 'book hotel',\n",
              " 'book hour',\n",
              " 'book move',\n",
              " 'book room',\n",
              " 'book treebo',\n",
              " 'boost',\n",
              " 'boost business',\n",
              " 'bottle',\n",
              " 'bottle give',\n",
              " 'bottle person',\n",
              " 'bottle provide',\n",
              " 'bowl',\n",
              " 'bowl cheap',\n",
              " 'brand',\n",
              " 'brand highly',\n",
              " 'brand name',\n",
              " 'breakfast',\n",
              " 'breakfast 800',\n",
              " 'breakfast also',\n",
              " 'breakfast around',\n",
              " 'breakfast average',\n",
              " 'breakfast avg',\n",
              " 'breakfast buffet',\n",
              " 'breakfast confirm',\n",
              " 'breakfast decent',\n",
              " 'breakfast despite',\n",
              " 'breakfast food',\n",
              " 'breakfast get',\n",
              " 'breakfast good',\n",
              " 'breakfast horrible',\n",
              " 'breakfast include',\n",
              " 'breakfast limited',\n",
              " 'breakfast menu',\n",
              " 'breakfast nice',\n",
              " 'breakfast ok',\n",
              " 'breakfast quality',\n",
              " 'breakfast reach',\n",
              " 'breakfast right',\n",
              " 'breakfast serve',\n",
              " 'breakfast spicey',\n",
              " 'breakfast spread',\n",
              " 'breakfast staff',\n",
              " 'breakfast time',\n",
              " 'breakfast timing',\n",
              " 'breakfast variate',\n",
              " 'breakfast wifi',\n",
              " 'brekfast',\n",
              " 'brightness',\n",
              " 'brightness common',\n",
              " 'broken',\n",
              " 'broken dirty',\n",
              " 'broken thts',\n",
              " 'bucket',\n",
              " 'bucket dirty',\n",
              " 'bucket hot',\n",
              " 'budget',\n",
              " 'budget hoteli',\n",
              " 'budget price',\n",
              " 'budget traveler',\n",
              " 'buffet',\n",
              " 'buffet breakfast',\n",
              " 'buffet egg',\n",
              " 'building',\n",
              " 'building part',\n",
              " 'bus',\n",
              " 'bus depot',\n",
              " 'bus indore',\n",
              " 'bus stand',\n",
              " 'bus terminal',\n",
              " 'business',\n",
              " 'business app',\n",
              " 'business model',\n",
              " 'business trip',\n",
              " 'cab',\n",
              " 'cab service',\n",
              " 'cab ujjain',\n",
              " 'calculation',\n",
              " 'calculation even',\n",
              " 'calculation restaurant',\n",
              " 'call',\n",
              " 'call reception',\n",
              " 'cancel',\n",
              " 'cancel book',\n",
              " 'cancel stay',\n",
              " 'canteen',\n",
              " 'canteen worker',\n",
              " 'car',\n",
              " 'car rental',\n",
              " 'card',\n",
              " 'card available',\n",
              " 'card give',\n",
              " 'card payment',\n",
              " 'carelessly',\n",
              " 'carelessly left',\n",
              " 'carpet',\n",
              " 'carpet room',\n",
              " 'cash',\n",
              " 'cash ask',\n",
              " 'catch',\n",
              " 'catch flight',\n",
              " 'category',\n",
              " 'category room',\n",
              " 'central',\n",
              " 'central area',\n",
              " 'central convenient',\n",
              " 'central shopping',\n",
              " 'centralize',\n",
              " 'centralize place',\n",
              " 'centrally',\n",
              " 'centrally air',\n",
              " 'centrally locate',\n",
              " 'centre',\n",
              " 'centre also',\n",
              " 'certainly',\n",
              " 'certainly make',\n",
              " 'chai',\n",
              " 'chai amaze',\n",
              " 'chain',\n",
              " 'chain responds',\n",
              " 'chance',\n",
              " 'chance get',\n",
              " 'change',\n",
              " 'change linen',\n",
              " 'change online',\n",
              " 'character',\n",
              " 'character post',\n",
              " 'charge',\n",
              " 'charge directly',\n",
              " 'charge extra',\n",
              " 'charger',\n",
              " 'charger courierit',\n",
              " 'charger hotel',\n",
              " 'cheap',\n",
              " 'cheap lodge',\n",
              " 'cheap melamine',\n",
              " 'check',\n",
              " 'check 24',\n",
              " 'check inform',\n",
              " 'check say',\n",
              " 'checked',\n",
              " 'checked late',\n",
              " 'checkin',\n",
              " 'checkin rude',\n",
              " 'choice',\n",
              " 'choice breakfast',\n",
              " 'choice error',\n",
              " 'choice want',\n",
              " 'chose',\n",
              " 'chose treebo',\n",
              " 'christmas',\n",
              " 'christmas week',\n",
              " 'chute',\n",
              " 'chute permeate',\n",
              " 'circuit',\n",
              " 'circuit work',\n",
              " 'city',\n",
              " 'city central',\n",
              " 'city close',\n",
              " 'city hotel',\n",
              " 'city mr',\n",
              " 'city place',\n",
              " 'city take',\n",
              " 'claim',\n",
              " 'claim stair',\n",
              " 'class',\n",
              " 'class hassle',\n",
              " 'claustrophobic',\n",
              " 'claustrophobic room',\n",
              " 'clean',\n",
              " 'clean bed',\n",
              " 'clean bedlinen',\n",
              " 'clean breakfast',\n",
              " 'clean enough',\n",
              " 'clean everything',\n",
              " 'clean expect',\n",
              " 'clean food',\n",
              " 'clean linen',\n",
              " 'clean location',\n",
              " 'clean neat',\n",
              " 'clean nice',\n",
              " 'clean properly',\n",
              " 'clean quality',\n",
              " 'clean service',\n",
              " 'clean something',\n",
              " 'clean tidy',\n",
              " 'clean tioletbath',\n",
              " 'clean wifi',\n",
              " 'cleaner',\n",
              " 'cleaner overall',\n",
              " 'cleaning',\n",
              " 'cleaning do',\n",
              " 'cleaning good',\n",
              " 'cleaning issue',\n",
              " 'cleaning room',\n",
              " 'cleanliness',\n",
              " 'cleanliness certainly',\n",
              " 'cleanliness convenient',\n",
              " 'cleanliness issue',\n",
              " 'cleanliness room',\n",
              " 'cleanup',\n",
              " 'cleanup change',\n",
              " 'clear',\n",
              " 'clear add',\n",
              " 'close',\n",
              " 'close airport',\n",
              " 'close hotel',\n",
              " 'close market',\n",
              " 'close save',\n",
              " 'close shopping',\n",
              " 'clothes',\n",
              " 'clothes staff',\n",
              " 'co',\n",
              " 'co operative',\n",
              " 'cold',\n",
              " 'cold oily',\n",
              " 'cold sleep',\n",
              " 'cold water',\n",
              " 'come',\n",
              " 'come business',\n",
              " 'come feel',\n",
              " 'come late',\n",
              " 'come purpose',\n",
              " 'come room',\n",
              " 'come useful',\n",
              " 'comfort',\n",
              " 'comfort provide',\n",
              " 'comfort room',\n",
              " 'comfortable',\n",
              " 'comfortable agree',\n",
              " 'comfortable covid',\n",
              " 'comfortable good',\n",
              " 'comfortable memorable',\n",
              " 'comfortable reach',\n",
              " 'comfortable small',\n",
              " 'comfortable stay',\n",
              " 'common',\n",
              " 'common area',\n",
              " 'common indore',\n",
              " 'communication',\n",
              " 'communication treebo',\n",
              " 'commute',\n",
              " 'commute within',\n",
              " 'comparatively',\n",
              " 'comparatively costly',\n",
              " 'comparatively small',\n",
              " 'compare',\n",
              " 'compare treebo',\n",
              " 'complaint',\n",
              " 'complaint bed',\n",
              " 'complimentary',\n",
              " 'complimentary breakfast',\n",
              " 'complimentary water',\n",
              " 'condition',\n",
              " 'condition neat',\n",
              " 'conditioning',\n",
              " 'conditioning set',\n",
              " 'confidence',\n",
              " 'confidence relief',\n",
              " 'confirm',\n",
              " 'confirm 810am',\n",
              " 'confuse',\n",
              " 'confuse poor',\n",
              " 'congestion',\n",
              " 'congestion throat',\n",
              " 'connect',\n",
              " 'connect bus',\n",
              " 'connectivity',\n",
              " 'connectivity place',\n",
              " 'construction',\n",
              " 'construction hospitality',\n",
              " 'consume',\n",
              " 'consume room',\n",
              " 'contact',\n",
              " 'contact treebo',\n",
              " 'control',\n",
              " 'control spending',\n",
              " 'convenient',\n",
              " 'convenient location',\n",
              " 'convenient term',\n",
              " 'conveniently',\n",
              " 'conveniently locate',\n",
              " 'cooperative',\n",
              " 'cooperative accommodate',\n",
              " 'cooperative although',\n",
              " 'cooperative hotel',\n",
              " 'cooperative humble',\n",
              " 'cooperative polite',\n",
              " 'cooperative staff',\n",
              " 'cooperative take',\n",
              " 'coordination',\n",
              " 'coordination well',\n",
              " 'cordial',\n",
              " 'cordial always',\n",
              " 'cordial overall',\n",
              " 'corridor',\n",
              " 'corridor day',\n",
              " 'corridor dinner',\n",
              " 'costly',\n",
              " 'costly advantage',\n",
              " 'could',\n",
              " 'could easily',\n",
              " 'could improve',\n",
              " 'could load',\n",
              " 'could provide',\n",
              " 'courier',\n",
              " 'courier good',\n",
              " 'courierit',\n",
              " 'courierit sure',\n",
              " 'courteous',\n",
              " 'courteous helpful',\n",
              " 'courteous price',\n",
              " 'courteous staff',\n",
              " 'courtesy',\n",
              " 'courtesy listen',\n",
              " 'covid',\n",
              " 'covid guideline',\n",
              " 'crammed',\n",
              " 'crammed staff',\n",
              " 'crawl',\n",
              " 'crawl bed',\n",
              " 'cum',\n",
              " 'cum restaurant',\n",
              " 'customer',\n",
              " 'customer ask',\n",
              " 'customer eat',\n",
              " 'customer requestscomplaints',\n",
              " 'customer service',\n",
              " 'customer worth',\n",
              " 'cut',\n",
              " 'cut though',\n",
              " 'daily',\n",
              " 'daily supply',\n",
              " 'day',\n",
              " 'day cancel',\n",
              " 'day stay',\n",
              " 'day superb',\n",
              " 'day telephone',\n",
              " 'day time',\n",
              " 'day treebo',\n",
              " 'day wardrobe',\n",
              " 'day work',\n",
              " 'dead',\n",
              " 'dead every',\n",
              " 'december',\n",
              " 'december hotel',\n",
              " 'decent',\n",
              " 'decent accomodation',\n",
              " 'decent bar',\n",
              " 'decent breakfast',\n",
              " 'decent cooperative',\n",
              " 'decent facade',\n",
              " 'decent room',\n",
              " 'decent stay',\n",
              " 'decor',\n",
              " 'decor wonderful',\n",
              " 'definetly',\n",
              " 'definetly recommend',\n",
              " 'definite',\n",
              " 'definite recommend',\n",
              " 'definitely',\n",
              " 'definitely recommend',\n",
              " 'definitely treebo',\n",
              " 'delay',\n",
              " 'delay get',\n",
              " 'delayed',\n",
              " 'delayed get',\n",
              " 'delayed nt',\n",
              " 'delicacy',\n",
              " 'delicacy staff',\n",
              " 'deliver',\n",
              " 'deliver front',\n",
              " 'deluxe',\n",
              " 'deluxe room',\n",
              " 'deluxe show',\n",
              " 'dental',\n",
              " 'dental kit',\n",
              " 'depot',\n",
              " 'depot nearby',\n",
              " 'depot stay',\n",
              " 'design',\n",
              " 'design clean',\n",
              " 'desire',\n",
              " 'desire due',\n",
              " 'despite',\n",
              " 'despite book',\n",
              " 'despite pay',\n",
              " 'despite promise',\n",
              " 'detail',\n",
              " 'detail customer',\n",
              " 'detail regard',\n",
              " 'didnt',\n",
              " 'didnt expect',\n",
              " 'different',\n",
              " 'different option',\n",
              " 'difficult',\n",
              " 'difficult old',\n",
              " 'dinner',\n",
              " 'dinner attach',\n",
              " 'dinner paltes',\n",
              " 'dint',\n",
              " 'dint hv',\n",
              " 'directly',\n",
              " 'directly final',\n",
              " 'dirty',\n",
              " 'dirty bucket',\n",
              " 'dirty lot',\n",
              " 'dirty room',\n",
              " 'disconcert',\n",
              " 'disconcert find',\n",
              " 'discount',\n",
              " 'discount fall',\n",
              " 'disposal',\n",
              " 'disposal hotel',\n",
              " 'do',\n",
              " 'do choice',\n",
              " 'do request',\n",
              " 'door',\n",
              " 'door lock',\n",
              " 'door near',\n",
              " 'double',\n",
              " 'double bed',\n",
              " 'double room',\n",
              " 'downside',\n",
              " 'downside breakfast',\n",
              " 'drawer',\n",
              " 'drawer lock',\n",
              " 'drink',\n",
              " 'drink family',\n",
              " 'drive',\n",
              " 'drive airport',\n",
              " 'drive locate',\n",
              " 'due',\n",
              " 'due factor',\n",
              " 'easily',\n",
              " 'easily commute',\n",
              " 'easily hope',\n",
              " 'easy',\n",
              " 'easy get',\n",
              " 'easy locate',\n",
              " 'eat',\n",
              " 'effort',\n",
              " 'effort hotel',\n",
              " 'egg',\n",
              " 'egg preparation',\n",
              " 'eis',\n",
              " 'eis also',\n",
              " 'either',\n",
              " 'either furniture',\n",
              " 'either railway',\n",
              " 'electricity',\n",
              " 'electricity problem',\n",
              " 'electricity transformer',\n",
              " 'else',\n",
              " 'else bad',\n",
              " 'embrassed',\n",
              " 'embrassed front',\n",
              " 'employee',\n",
              " 'employee uniform',\n",
              " 'end',\n",
              " 'end day',\n",
              " 'enjoy',\n",
              " 'enjoy indore',\n",
              " 'enjoy stay',\n",
              " 'enough',\n",
              " 'enough would',\n",
              " 'entire',\n",
              " 'entire amount',\n",
              " 'entire hotel',\n",
              " 'entire stay',\n",
              " 'entire thing',\n",
              " 'entrance',\n",
              " 'entrance reception',\n",
              " 'error',\n",
              " 'error book',\n",
              " 'especially',\n",
              " 'especially travel',\n",
              " 'etc',\n",
              " 'etc contact',\n",
              " 'even',\n",
              " 'even left',\n",
              " 'even raise',\n",
              " 'even single',\n",
              " 'even though',\n",
              " 'ever',\n",
              " 'ever come',\n",
              " 'every',\n",
              " 'every day',\n",
              " 'every room',\n",
              " 'every time',\n",
              " 'everybody',\n",
              " 'everybody nice',\n",
              " 'everyday',\n",
              " 'everyday cleanup',\n",
              " 'everything',\n",
              " 'everything else',\n",
              " 'everything work',\n",
              " 'excellent',\n",
              " 'excellent amenity',\n",
              " 'excellent price',\n",
              " 'excellent rate',\n",
              " 'excellent room',\n",
              " 'excellent stay',\n",
              " 'excellent value',\n",
              " 'excellently',\n",
              " 'excellently spacious',\n",
              " 'exclusive',\n",
              " 'exclusive gst',\n",
              " 'exhaust',\n",
              " 'exhaust fan',\n",
              " 'expect',\n",
              " 'expect comfortable',\n",
              " 'expect even',\n",
              " 'expect service',\n",
              " 'experience',\n",
              " 'experience average',\n",
              " 'experience good',\n",
              " 'experience house',\n",
              " 'experience keep',\n",
              " 'experience mrkapil',\n",
              " 'experience room',\n",
              " 'experience staff',\n",
              " 'experience treebo',\n",
              " 'experience would',\n",
              " 'experiencewe',\n",
              " 'experiencewe connect',\n",
              " 'explore',\n",
              " 'explore city',\n",
              " 'exterior',\n",
              " 'exterior hotel',\n",
              " 'exterior part',\n",
              " 'extra',\n",
              " 'extra 18',\n",
              " 'extremely',\n",
              " 'extremely polite',\n",
              " 'facade',\n",
              " 'facade might',\n",
              " 'face',\n",
              " 'face complimentary',\n",
              " 'face nt',\n",
              " 'facility',\n",
              " 'facility amaze',\n",
              " 'facility ask',\n",
              " 'facility available',\n",
              " 'facility good',\n",
              " 'facility location',\n",
              " 'facility offer',\n",
              " 'factor',\n",
              " 'factor staff',\n",
              " 'fadsar',\n",
              " 'fadsar indore',\n",
              " 'fair',\n",
              " 'fair amount',\n",
              " 'fall',\n",
              " 'fall prey',\n",
              " 'familiar',\n",
              " 'familiar hotel',\n",
              " 'family',\n",
              " 'family average',\n",
              " 'family class',\n",
              " 'family friend',\n",
              " 'family friendly',\n",
              " 'family good',\n",
              " 'family individual',\n",
              " 'family member',\n",
              " 'family memorable',\n",
              " 'family one',\n",
              " 'family overall',\n",
              " 'family staff',\n",
              " 'family stay',\n",
              " 'famous',\n",
              " 'famous khaau',\n",
              " 'fan',\n",
              " 'fan toilet',\n",
              " 'far',\n",
              " 'far city',\n",
              " 'far either',\n",
              " 'far railway',\n",
              " 'fashion',\n",
              " 'fashion make',\n",
              " 'fast',\n",
              " 'feasible',\n",
              " 'feasible definitely',\n",
              " 'feel',\n",
              " 'feel bit',\n",
              " 'feel claustrophobic',\n",
              " 'feel do',\n",
              " 'feel nothing',\n",
              " 'feel stuffy',\n",
              " 'feel welcome',\n",
              " 'felt',\n",
              " 'felt disconcert',\n",
              " 'felt lack',\n",
              " 'felt would',\n",
              " 'film',\n",
              " 'film character',\n",
              " 'final',\n",
              " 'final bill',\n",
              " 'finally',\n",
              " 'finally forger',\n",
              " 'finally get',\n",
              " 'find',\n",
              " 'find book',\n",
              " 'find hotel',\n",
              " 'find room',\n",
              " 'fine',\n",
              " 'fine cleaning',\n",
              " 'finish',\n",
              " 'finish initially',\n",
              " 'first',\n",
              " 'first choice',\n",
              " 'first night',\n",
              " 'first time',\n",
              " 'first trip',\n",
              " 'fix',\n",
              " 'fix easily',\n",
              " 'flagship',\n",
              " 'flagship hotel',\n",
              " 'flight',\n",
              " 'flight delayed',\n",
              " 'flight wifi',\n",
              " 'floor',\n",
              " 'floor whereas',\n",
              " 'follow',\n",
              " 'follow hotel',\n",
              " 'food',\n",
              " 'food also',\n",
              " 'food bill',\n",
              " 'food comparatively',\n",
              " 'food could',\n",
              " 'food decent',\n",
              " 'food drink',\n",
              " 'food electricity',\n",
              " 'food excellent',\n",
              " 'food give',\n",
              " 'food good',\n",
              " 'food menu',\n",
              " 'food nice',\n",
              " 'food quality',\n",
              " 'food serve',\n",
              " 'food staff',\n",
              " 'food stale',\n",
              " 'forger',\n",
              " 'forger smile',\n",
              " 'forgot',\n",
              " 'forgot charger',\n",
              " 'found',\n",
              " 'found place',\n",
              " 'fresh',\n",
              " 'fresh tea',\n",
              " 'freshen',\n",
              " 'freshen explore',\n",
              " 'freshen spec',\n",
              " 'friend',\n",
              " 'friend nice',\n",
              " 'friend wedding',\n",
              " 'friendly',\n",
              " 'friendly complimentary',\n",
              " 'friendly nice',\n",
              " 'frill',\n",
              " 'frill hotel',\n",
              " 'front',\n",
              " 'front although',\n",
              " 'front guest',\n",
              " 'fruit',\n",
              " 'fruit stall',\n",
              " 'frustrate',\n",
              " 'frustrate hotel',\n",
              " 'full',\n",
              " 'full mr',\n",
              " 'fund',\n",
              " 'fund key',\n",
              " 'furniture',\n",
              " 'furniture broken',\n",
              " 'galli',\n",
              " 'galli walkable15',\n",
              " 'gangwal',\n",
              " 'gangwal bus',\n",
              " 'get',\n",
              " 'get access',\n",
              " 'get breakfast',\n",
              " 'get close',\n",
              " 'get decent',\n",
              " 'get delayed',\n",
              " 'get deluxe',\n",
              " 'get get',\n",
              " 'get indore',\n",
              " 'get late',\n",
              " 'get public',\n",
              " 'get room',\n",
              " 'get slightly',\n",
              " 'get unfair',\n",
              " 'geyser',\n",
              " 'geyser solar',\n",
              " 'give',\n",
              " 'give 55',\n",
              " 'give customer',\n",
              " 'give either',\n",
              " ...]"
            ]
          },
          "execution_count": 261,
          "metadata": {},
          "output_type": "execute_result"
        }
      ],
      "source": [
        "cv.get_feature_names()"
      ]
    },
    {
      "cell_type": "code",
      "execution_count": null,
      "metadata": {
        "colab": {
          "base_uri": "https://localhost:8080/"
        },
        "id": "BvO4PmMHRyYV",
        "outputId": "0914e507-bb97-49b4-d62b-00d575aed48e"
      },
      "outputs": [
        {
          "data": {
            "text/plain": [
              "74"
            ]
          },
          "execution_count": 262,
          "metadata": {},
          "output_type": "execute_result"
        }
      ],
      "source": [
        "len(x)"
      ]
    },
    {
      "cell_type": "code",
      "execution_count": null,
      "metadata": {
        "colab": {
          "base_uri": "https://localhost:8080/"
        },
        "id": "ysQ7xkE4WNkn",
        "outputId": "31709557-f4d2-443f-d855-db1897c9f1f8"
      },
      "outputs": [
        {
          "name": "stderr",
          "output_type": "stream",
          "text": [
            "/usr/local/lib/python3.7/dist-packages/ipykernel_launcher.py:1: VisibleDeprecationWarning: Creating an ndarray from ragged nested sequences (which is a list-or-tuple of lists-or-tuples-or ndarrays with different lengths or shapes) is deprecated. If you meant to do this, you must specify 'dtype=object' when creating the ndarray.\n",
            "  \"\"\"Entry point for launching an IPython kernel.\n"
          ]
        }
      ],
      "source": [
        "x = np.array(x).reshape((-1, 1))"
      ]
    },
    {
      "cell_type": "code",
      "execution_count": null,
      "metadata": {
        "colab": {
          "base_uri": "https://localhost:8080/"
        },
        "id": "FLNsH3QxW0gY",
        "outputId": "b9b6ec57-94d1-4550-aaa6-dd853cc206b1"
      },
      "outputs": [
        {
          "data": {
            "text/plain": [
              "array([[0, 0, 0, ..., 0, 0, 0],\n",
              "       [0, 0, 0, ..., 0, 0, 0],\n",
              "       [0, 0, 0, ..., 0, 0, 0],\n",
              "       ...,\n",
              "       [0, 0, 0, ..., 0, 0, 0],\n",
              "       [0, 0, 0, ..., 0, 0, 0],\n",
              "       [0, 0, 0, ..., 0, 0, 0]])"
            ]
          },
          "execution_count": 263,
          "metadata": {},
          "output_type": "execute_result"
        }
      ],
      "source": [
        "x"
      ]
    },
    {
      "cell_type": "code",
      "execution_count": null,
      "metadata": {
        "id": "AaSWkKVBQ2Sn"
      },
      "outputs": [],
      "source": [
        "from sklearn.model_selection import train_test_split"
      ]
    },
    {
      "cell_type": "code",
      "execution_count": null,
      "metadata": {
        "id": "k7HqiD6kRLyq"
      },
      "outputs": [],
      "source": [
        "X_train, X_test, y_train, y_test = train_test_split(x, y, test_size=0.33, random_state=42)"
      ]
    },
    {
      "cell_type": "code",
      "execution_count": null,
      "metadata": {
        "colab": {
          "base_uri": "https://localhost:8080/"
        },
        "id": "TDlMycRtboaD",
        "outputId": "fa4f34d0-301c-47a1-80c4-bb0e7e5a6f7c"
      },
      "outputs": [
        {
          "data": {
            "text/plain": [
              "array([[0, 0, 0, ..., 0, 0, 0],\n",
              "       [0, 0, 0, ..., 0, 0, 0],\n",
              "       [0, 0, 0, ..., 0, 0, 0],\n",
              "       ...,\n",
              "       [0, 0, 0, ..., 0, 0, 0],\n",
              "       [0, 0, 0, ..., 0, 0, 0],\n",
              "       [0, 0, 0, ..., 0, 0, 0]])"
            ]
          },
          "execution_count": 265,
          "metadata": {},
          "output_type": "execute_result"
        }
      ],
      "source": [
        "X_train"
      ]
    },
    {
      "cell_type": "code",
      "execution_count": null,
      "metadata": {
        "id": "19z0U-Q-RSwU"
      },
      "outputs": [],
      "source": [
        "from sklearn.naive_bayes import MultinomialNB"
      ]
    },
    {
      "cell_type": "code",
      "execution_count": null,
      "metadata": {
        "id": "M6MUsOG-SIWb"
      },
      "outputs": [],
      "source": [
        "mn = MultinomialNB()"
      ]
    },
    {
      "cell_type": "code",
      "execution_count": null,
      "metadata": {
        "colab": {
          "base_uri": "https://localhost:8080/"
        },
        "id": "1XMScozKSJ_s",
        "outputId": "37afa64f-812b-48eb-90fc-577b43f52f11"
      },
      "outputs": [
        {
          "data": {
            "text/plain": [
              "MultinomialNB()"
            ]
          },
          "execution_count": 267,
          "metadata": {},
          "output_type": "execute_result"
        }
      ],
      "source": [
        "mn.fit(X_train, y_train)"
      ]
    },
    {
      "cell_type": "code",
      "execution_count": null,
      "metadata": {
        "id": "hixZrIFnZFLh"
      },
      "outputs": [],
      "source": [
        "y_pred = mn.predict(X_test)"
      ]
    },
    {
      "cell_type": "code",
      "execution_count": null,
      "metadata": {
        "id": "QonvZ3cEWwhL"
      },
      "outputs": [],
      "source": [
        "from sklearn.metrics import accuracy_score"
      ]
    },
    {
      "cell_type": "code",
      "execution_count": null,
      "metadata": {
        "colab": {
          "base_uri": "https://localhost:8080/"
        },
        "id": "LWlleqPAm-fR",
        "outputId": "21469338-3362-4733-c61d-92efb5a7d212"
      },
      "outputs": [
        {
          "data": {
            "text/plain": [
              "0.36"
            ]
          },
          "execution_count": 270,
          "metadata": {},
          "output_type": "execute_result"
        }
      ],
      "source": [
        "accuracy_score(y_test, y_pred)"
      ]
    }
  ],
  "metadata": {
    "colab": {
      "provenance": []
    },
    "kernelspec": {
      "display_name": "Python 3",
      "name": "python3"
    },
    "language_info": {
      "name": "python"
    }
  },
  "nbformat": 4,
  "nbformat_minor": 0
}